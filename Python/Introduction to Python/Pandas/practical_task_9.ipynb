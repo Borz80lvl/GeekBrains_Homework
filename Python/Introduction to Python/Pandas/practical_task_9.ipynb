{
 "cells": [
  {
   "cell_type": "markdown",
   "metadata": {},
   "source": [
    "# **Task 1**"
   ]
  },
  {
   "cell_type": "code",
   "execution_count": null,
   "metadata": {
    "executionInfo": {
     "elapsed": 7,
     "status": "ok",
     "timestamp": 1751971247701,
     "user": {
      "displayName": "BORZ 80LVL",
      "userId": "00088916211734248927"
     },
     "user_tz": -180
    },
    "id": "Sg3qXIo4gYgM"
   },
   "outputs": [],
   "source": [
    "import pandas\n",
    "adv1_df = pandas.read_csv(\"advertising_1.csv\", index_col='Number')\n",
    "adv1_df.head(10)"
   ]
  },
  {
   "cell_type": "markdown",
   "metadata": {},
   "source": [
    "# **Task 2**"
   ]
  },
  {
   "cell_type": "code",
   "execution_count": null,
   "metadata": {
    "colab": {
     "base_uri": "https://localhost:8080/"
    },
    "executionInfo": {
     "elapsed": 5,
     "status": "ok",
     "timestamp": 1751971247728,
     "user": {
      "displayName": "BORZ 80LVL",
      "userId": "00088916211734248927"
     },
     "user_tz": -180
    },
    "id": "NfauwGLHzlMX",
    "outputId": "99fd6ce1-ed95-4c8a-d168-e6ff8482b71f"
   },
   "outputs": [],
   "source": [
    "adv1_df.shape\n",
    "print(adv1_df.loc[8,\"Daily Internet Usage\"])"
   ]
  },
  {
   "cell_type": "markdown",
   "metadata": {},
   "source": [
    "# **Task 3**"
   ]
  },
  {
   "cell_type": "code",
   "execution_count": null,
   "metadata": {
    "colab": {
     "base_uri": "https://localhost:8080/"
    },
    "executionInfo": {
     "elapsed": 17,
     "status": "ok",
     "timestamp": 1751971247755,
     "user": {
      "displayName": "BORZ 80LVL",
      "userId": "00088916211734248927"
     },
     "user_tz": -180
    },
    "id": "vbkbSKghPkfF",
    "outputId": "f5e7790e-a7bb-4464-c724-fec758c93036"
   },
   "outputs": [],
   "source": [
    "adv2_df = pandas.read_csv(\"advertising_2.csv\", index_col='Number')\n",
    "adv2_df.loc[533:536]"
   ]
  }
 ],
 "metadata": {
  "colab": {
   "authorship_tag": "ABX9TyPXnhiIO1AVmN8rKV5HcLlt",
   "provenance": []
  },
  "kernelspec": {
   "display_name": ".venv",
   "language": "python",
   "name": "python3"
  },
  "language_info": {
   "codemirror_mode": {
    "name": "ipython",
    "version": 3
   },
   "file_extension": ".py",
   "mimetype": "text/x-python",
   "name": "python",
   "nbconvert_exporter": "python",
   "pygments_lexer": "ipython3",
   "version": "3.11.2"
  }
 },
 "nbformat": 4,
 "nbformat_minor": 0
}

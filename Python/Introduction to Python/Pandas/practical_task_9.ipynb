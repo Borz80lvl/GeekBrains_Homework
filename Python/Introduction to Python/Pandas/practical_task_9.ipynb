{
 "cells": [
  {
   "cell_type": "markdown",
   "metadata": {},
   "source": [
    "# **Task 1**"
   ]
  },
  {
   "cell_type": "code",
   "execution_count": 1,
   "metadata": {
    "executionInfo": {
     "elapsed": 7,
     "status": "ok",
     "timestamp": 1751971247701,
     "user": {
      "displayName": "BORZ 80LVL",
      "userId": "00088916211734248927"
     },
     "user_tz": -180
    },
    "id": "Sg3qXIo4gYgM"
   },
   "outputs": [
    {
     "data": {
      "text/html": [
       "<div>\n",
       "<style scoped>\n",
       "    .dataframe tbody tr th:only-of-type {\n",
       "        vertical-align: middle;\n",
       "    }\n",
       "\n",
       "    .dataframe tbody tr th {\n",
       "        vertical-align: top;\n",
       "    }\n",
       "\n",
       "    .dataframe thead th {\n",
       "        text-align: right;\n",
       "    }\n",
       "</style>\n",
       "<table border=\"1\" class=\"dataframe\">\n",
       "  <thead>\n",
       "    <tr style=\"text-align: right;\">\n",
       "      <th></th>\n",
       "      <th>Daily Time Spent on Site</th>\n",
       "      <th>Daily Internet Usage</th>\n",
       "      <th>Ad Topic Line</th>\n",
       "      <th>Clicked on Ad</th>\n",
       "    </tr>\n",
       "    <tr>\n",
       "      <th>Number</th>\n",
       "      <th></th>\n",
       "      <th></th>\n",
       "      <th></th>\n",
       "      <th></th>\n",
       "    </tr>\n",
       "  </thead>\n",
       "  <tbody>\n",
       "    <tr>\n",
       "      <th>5</th>\n",
       "      <td>68.95</td>\n",
       "      <td>256.09</td>\n",
       "      <td>Cloned 5thgeneration orchestration</td>\n",
       "      <td>0</td>\n",
       "    </tr>\n",
       "    <tr>\n",
       "      <th>6</th>\n",
       "      <td>80.23</td>\n",
       "      <td>193.77</td>\n",
       "      <td>Monitored national standardization</td>\n",
       "      <td>0</td>\n",
       "    </tr>\n",
       "    <tr>\n",
       "      <th>8</th>\n",
       "      <td>74.15</td>\n",
       "      <td>245.89</td>\n",
       "      <td>Triple-buffered reciprocal time-frame</td>\n",
       "      <td>0</td>\n",
       "    </tr>\n",
       "    <tr>\n",
       "      <th>9</th>\n",
       "      <td>NaN</td>\n",
       "      <td>225.58</td>\n",
       "      <td>Robust logistical utilization</td>\n",
       "      <td>0</td>\n",
       "    </tr>\n",
       "    <tr>\n",
       "      <th>10</th>\n",
       "      <td>59.99</td>\n",
       "      <td>226.74</td>\n",
       "      <td>Sharable client-driven software</td>\n",
       "      <td>0</td>\n",
       "    </tr>\n",
       "    <tr>\n",
       "      <th>11</th>\n",
       "      <td>88.91</td>\n",
       "      <td>208.36</td>\n",
       "      <td>Enhanced dedicated support</td>\n",
       "      <td>0</td>\n",
       "    </tr>\n",
       "    <tr>\n",
       "      <th>12</th>\n",
       "      <td>NaN</td>\n",
       "      <td>131.76</td>\n",
       "      <td>Reactive local challenge</td>\n",
       "      <td>1</td>\n",
       "    </tr>\n",
       "    <tr>\n",
       "      <th>13</th>\n",
       "      <td>74.53</td>\n",
       "      <td>NaN</td>\n",
       "      <td>Configurable coherent function</td>\n",
       "      <td>0</td>\n",
       "    </tr>\n",
       "    <tr>\n",
       "      <th>14</th>\n",
       "      <td>69.88</td>\n",
       "      <td>183.82</td>\n",
       "      <td>Mandatory homogeneous architecture</td>\n",
       "      <td>0</td>\n",
       "    </tr>\n",
       "    <tr>\n",
       "      <th>15</th>\n",
       "      <td>47.64</td>\n",
       "      <td>122.02</td>\n",
       "      <td>Centralized neutral neural-net</td>\n",
       "      <td>1</td>\n",
       "    </tr>\n",
       "  </tbody>\n",
       "</table>\n",
       "</div>"
      ],
      "text/plain": [
       "        Daily Time Spent on Site  Daily Internet Usage  \\\n",
       "Number                                                   \n",
       "5                          68.95                256.09   \n",
       "6                          80.23                193.77   \n",
       "8                          74.15                245.89   \n",
       "9                            NaN                225.58   \n",
       "10                         59.99                226.74   \n",
       "11                         88.91                208.36   \n",
       "12                           NaN                131.76   \n",
       "13                         74.53                   NaN   \n",
       "14                         69.88                183.82   \n",
       "15                         47.64                122.02   \n",
       "\n",
       "                                Ad Topic Line  Clicked on Ad  \n",
       "Number                                                        \n",
       "5          Cloned 5thgeneration orchestration              0  \n",
       "6          Monitored national standardization              0  \n",
       "8       Triple-buffered reciprocal time-frame              0  \n",
       "9               Robust logistical utilization              0  \n",
       "10            Sharable client-driven software              0  \n",
       "11                 Enhanced dedicated support              0  \n",
       "12                   Reactive local challenge              1  \n",
       "13             Configurable coherent function              0  \n",
       "14         Mandatory homogeneous architecture              0  \n",
       "15             Centralized neutral neural-net              1  "
      ]
     },
     "execution_count": 1,
     "metadata": {},
     "output_type": "execute_result"
    }
   ],
   "source": [
    "import pandas\n",
    "adv1_df = pandas.read_csv(\"advertising_1.csv\", index_col='Number')\n",
    "adv1_df.head(10)"
   ]
  },
  {
   "cell_type": "markdown",
   "metadata": {},
   "source": [
    "# **Task 2**"
   ]
  },
  {
   "cell_type": "code",
   "execution_count": 2,
   "metadata": {
    "colab": {
     "base_uri": "https://localhost:8080/"
    },
    "executionInfo": {
     "elapsed": 5,
     "status": "ok",
     "timestamp": 1751971247728,
     "user": {
      "displayName": "BORZ 80LVL",
      "userId": "00088916211734248927"
     },
     "user_tz": -180
    },
    "id": "NfauwGLHzlMX",
    "outputId": "99fd6ce1-ed95-4c8a-d168-e6ff8482b71f"
   },
   "outputs": [
    {
     "name": "stdout",
     "output_type": "stream",
     "text": [
      "245.89\n"
     ]
    }
   ],
   "source": [
    "adv1_df.shape\n",
    "print(adv1_df.loc[8,\"Daily Internet Usage\"])"
   ]
  },
  {
   "cell_type": "markdown",
   "metadata": {},
   "source": [
    "# **Task 3**"
   ]
  },
  {
   "cell_type": "code",
   "execution_count": 3,
   "metadata": {
    "colab": {
     "base_uri": "https://localhost:8080/"
    },
    "executionInfo": {
     "elapsed": 17,
     "status": "ok",
     "timestamp": 1751971247755,
     "user": {
      "displayName": "BORZ 80LVL",
      "userId": "00088916211734248927"
     },
     "user_tz": -180
    },
    "id": "vbkbSKghPkfF",
    "outputId": "f5e7790e-a7bb-4464-c724-fec758c93036"
   },
   "outputs": [
    {
     "data": {
      "text/html": [
       "<div>\n",
       "<style scoped>\n",
       "    .dataframe tbody tr th:only-of-type {\n",
       "        vertical-align: middle;\n",
       "    }\n",
       "\n",
       "    .dataframe tbody tr th {\n",
       "        vertical-align: top;\n",
       "    }\n",
       "\n",
       "    .dataframe thead th {\n",
       "        text-align: right;\n",
       "    }\n",
       "</style>\n",
       "<table border=\"1\" class=\"dataframe\">\n",
       "  <thead>\n",
       "    <tr style=\"text-align: right;\">\n",
       "      <th></th>\n",
       "      <th>Daily Time Spent on Site</th>\n",
       "      <th>Daily Internet Usage</th>\n",
       "      <th>Ad Topic Line</th>\n",
       "      <th>Clicked on Ad</th>\n",
       "    </tr>\n",
       "    <tr>\n",
       "      <th>Number</th>\n",
       "      <th></th>\n",
       "      <th></th>\n",
       "      <th></th>\n",
       "      <th></th>\n",
       "    </tr>\n",
       "  </thead>\n",
       "  <tbody>\n",
       "    <tr>\n",
       "      <th>533</th>\n",
       "      <td>46.61</td>\n",
       "      <td>NaN</td>\n",
       "      <td>Ergonomic methodical encoding</td>\n",
       "      <td>1</td>\n",
       "    </tr>\n",
       "    <tr>\n",
       "      <th>534</th>\n",
       "      <td>NaN</td>\n",
       "      <td>162.03</td>\n",
       "      <td>Compatible dedicated productivity</td>\n",
       "      <td>0</td>\n",
       "    </tr>\n",
       "    <tr>\n",
       "      <th>535</th>\n",
       "      <td>65.10</td>\n",
       "      <td>118.10</td>\n",
       "      <td>Up-sized real-time methodology</td>\n",
       "      <td>1</td>\n",
       "    </tr>\n",
       "    <tr>\n",
       "      <th>536</th>\n",
       "      <td>53.44</td>\n",
       "      <td>NaN</td>\n",
       "      <td>Up-sized next generation architecture</td>\n",
       "      <td>1</td>\n",
       "    </tr>\n",
       "  </tbody>\n",
       "</table>\n",
       "</div>"
      ],
      "text/plain": [
       "        Daily Time Spent on Site  Daily Internet Usage  \\\n",
       "Number                                                   \n",
       "533                        46.61                   NaN   \n",
       "534                          NaN                162.03   \n",
       "535                        65.10                118.10   \n",
       "536                        53.44                   NaN   \n",
       "\n",
       "                                Ad Topic Line  Clicked on Ad  \n",
       "Number                                                        \n",
       "533             Ergonomic methodical encoding              1  \n",
       "534         Compatible dedicated productivity              0  \n",
       "535            Up-sized real-time methodology              1  \n",
       "536     Up-sized next generation architecture              1  "
      ]
     },
     "execution_count": 3,
     "metadata": {},
     "output_type": "execute_result"
    }
   ],
   "source": [
    "adv2_df = pandas.read_csv(\"advertising_2.csv\", index_col='Number')\n",
    "adv2_df.loc[533:536]"
   ]
  }
 ],
 "metadata": {
  "colab": {
   "authorship_tag": "ABX9TyPXnhiIO1AVmN8rKV5HcLlt",
   "provenance": []
  },
  "kernelspec": {
   "display_name": ".venv",
   "language": "python",
   "name": "python3"
  },
  "language_info": {
   "codemirror_mode": {
    "name": "ipython",
    "version": 3
   },
   "file_extension": ".py",
   "mimetype": "text/x-python",
   "name": "python",
   "nbconvert_exporter": "python",
   "pygments_lexer": "ipython3",
   "version": "3.11.2"
  }
 },
 "nbformat": 4,
 "nbformat_minor": 0
}

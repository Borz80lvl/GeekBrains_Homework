{
 "cells": [
  {
   "cell_type": "markdown",
   "id": "c10b16e2",
   "metadata": {},
   "source": [
    "# **One Hot**"
   ]
  },
  {
   "cell_type": "code",
   "execution_count": null,
   "id": "7bc62f17",
   "metadata": {},
   "outputs": [],
   "source": [
    "import pandas\n",
    "import random\n",
    "\n",
    "\n",
    "lst = ['robot'] * 10\n",
    "lst += ['human'] * 10\n",
    "random.shuffle(lst)\n",
    "data = pandas.DataFrame({'whoAmI':lst})\n",
    "data.head()\n",
    "\n",
    "one_hot_df = pandas.DataFrame({'whoAmI_robot': [1],'whoAmI_human': [0]})\n",
    "if data['whoAmI'][0] == 'robot':\n",
    "  one_hot_df.loc[0,'whoAmI_robot'] = 1\n",
    "else:\n",
    "  one_hot_df.loc[0,'whoAmI_human'] = 1\n",
    "for entity in data['whoAmI'][1:]:\n",
    "  one_hot_df.index = [''] * len(one_hot_df)\n",
    "  if entity == 'robot':\n",
    "    one_hot_df.loc[len(one_hot_df)] = [1, 0]\n",
    "  else:\n",
    "    one_hot_df.loc[len(one_hot_df)] = [0, 1]\n",
    "one_hot_df.head()"
   ]
  },
  {
   "cell_type": "markdown",
   "id": "37632d4d",
   "metadata": {},
   "source": [
    "# **Анализ расходов по возрасту**"
   ]
  },
  {
   "cell_type": "code",
   "execution_count": null,
   "id": "dd2704cc",
   "metadata": {},
   "outputs": [],
   "source": [
    "import seaborn\n",
    "data = pandas.read_csv('data.csv')\n",
    "seaborn.relplot(data, x='age',y='spending_score',kind='line')"
   ]
  },
  {
   "cell_type": "markdown",
   "id": "f569c439",
   "metadata": {},
   "source": [
    "# **Взаимосвязь между зарплатой и бонусами**"
   ]
  },
  {
   "cell_type": "code",
   "execution_count": null,
   "id": "a542d558",
   "metadata": {},
   "outputs": [],
   "source": [
    "seaborn.scatterplot(data, x='salary', y='bonus', size='years_at_company')"
   ]
  }
 ],
 "metadata": {
  "kernelspec": {
   "display_name": ".venv",
   "language": "python",
   "name": "python3"
  },
  "language_info": {
   "codemirror_mode": {
    "name": "ipython",
    "version": 3
   },
   "file_extension": ".py",
   "mimetype": "text/x-python",
   "name": "python",
   "nbconvert_exporter": "python",
   "pygments_lexer": "ipython3",
   "version": "3.11.2"
  }
 },
 "nbformat": 4,
 "nbformat_minor": 5
}
